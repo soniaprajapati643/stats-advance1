{
  "nbformat": 4,
  "nbformat_minor": 0,
  "metadata": {
    "colab": {
      "provenance": []
    },
    "kernelspec": {
      "name": "python3",
      "display_name": "Python 3"
    },
    "language_info": {
      "name": "python"
    }
  },
  "cells": [
    {
      "cell_type": "markdown",
      "source": [
        "Assignment Code: DA-AG-006\n",
        "Statistics Advanced - 1| Assignment\n",
        "Instructions: Carefully read each question. Use Google Docs, Microsoft Word, or a similar tool to create a document where you type out each question along with its answer. Save the document as a PDF, and then upload it to the LMS. Please do not zip or archive the files before uploading them. Each question carries 20 marks.\n",
        "Total Marks: 200\n",
        "\n",
        "\n",
        "\n",
        "\n"
      ],
      "metadata": {
        "id": "mZ846PLRMhVZ"
      }
    },
    {
      "cell_type": "markdown",
      "source": [
        "Question 1: What is a random variable in probability theory?\n",
        "\n",
        "Answer:A function that assigns a numerical value to each outcome of a random experiment, allowing us to quantify the uncertainty of the experiment's result.\n",
        "examples - tossing of coins, throwing a dice etc.\n"
      ],
      "metadata": {
        "id": "Voq4GiEmOgSP"
      }
    },
    {
      "cell_type": "markdown",
      "source": [
        "Question 2: What are the types of random variables?\n",
        "\n",
        "Answer:There are three types of random variables are -\n",
        "1.Discrete Random Variables\n",
        "Definition: A discrete random variable has a finite or countable infinite number of possible values.\n",
        "Characteristics: For a discrete variable, each outcome has a specific, associated probability.\n",
        "Examples:\n",
        "The number of heads when flipping a coin multiple times.\n",
        "The outcome of rolling a die.\n",
        "The number of cars passing a point on a road in an hour.\n",
        "2. Continuous Random Variables\n",
        "Definition: A continuous random variable can take on an infinite number of values within a specific range or interval.\n",
        "Characteristics: Instead of having individual probabilities, probabilities are assigned to ranges of outcomes.\n",
        "Examples:\n",
        "The time it takes for a light bulb to burn out.\n",
        "The height of a person.\n",
        "The average rainfall in a region.\n",
        "3. Mixed Random Variables\n",
        "Definition: A mixed random variable incorporates characteristics of both discrete and continuous random variables.\n",
        "Example: A variable representing the amount of money a person has, which could be a discrete value (if the person has cash) or a continuous value (if the person has money in a bank account)"
      ],
      "metadata": {
        "id": "ZXQhXiVlM7R4"
      }
    },
    {
      "cell_type": "markdown",
      "source": [
        "Question 3: Explain the difference between discrete and continuous distributions.\n",
        "\n",
        "Answer:1.Discrete Random Variables\n",
        "Definition: A discrete random variable has a finite or countable infinite number of possible values.\n",
        "Characteristics: For a discrete variable, each outcome has a specific, associated probability.\n",
        "Examples:\n",
        "The number of heads when flipping a coin multiple times.\n",
        "The outcome of rolling a die.\n",
        "The number of cars passing a point on a road in an hour.\n",
        "\n",
        "2. Continuous Random Variables\n",
        "Definition: A continuous random variable can take on an infinite number of values within a specific range or interval.\n",
        "Characteristics: Instead of having individual probabilities, probabilities are assigned to ranges of outcomes.\n",
        "Examples:\n",
        "The time it takes for a light bulb to burn out.\n",
        "The height of a person.\n",
        "The average rainfall in a region"
      ],
      "metadata": {
        "id": "jVlS85ocM8nE"
      }
    },
    {
      "cell_type": "markdown",
      "source": [
        "Question 4: What is a binomial distribution, and how is it used in probability?\n",
        "\n",
        "Answer:A binomial distribution is a discrete probability distribution that models the probability of getting a certain number of successful outcomes from a fixed number of independent trials. Each trial must have only two possible outcomes, typically labeled \"success\" or \"failure,\" and the probability of success must remain constant for every trial.\n",
        "1.Find the n value. Determine how many trials you're going to perform to obtain satisfactory results.\n",
        "2.Determine the x value.\n",
        "3.Identify the nCx value.\n",
        "4.Evaluate the probability of one outcome.\n",
        "5.Calculate the probability.\n",
        "6.Evaluate your results.\n"
      ],
      "metadata": {
        "id": "Hk3oJYQFM8uU"
      }
    },
    {
      "cell_type": "markdown",
      "source": [
        "Question 5: What is the standard normal distribution, and why is it important?\n",
        "\n",
        "Answer:The standard normal distribution is a specific normal distribution with a mean of 0 and a standard deviation of 1, also called the z-distribution. It is important because it allows statisticians to standardize any normal distribution into a common scale using z-scores, which simplifies comparing different datasets, finding probabilities, performing hypothesis tests, and making statistical inferences."
      ],
      "metadata": {
        "id": "H550L1q7M8yA"
      }
    },
    {
      "cell_type": "markdown",
      "source": [
        "Question 6: What is the Central Limit Theorem (CLT), and why is it critical in statistics?\n",
        "Answer:The Central Limit Theorem (CLT) states that the distribution of sample means from a sufficiently large number of independent random samples will approximate a normal (bell-shaped) distribution, regardless of the original population's distribution shape. It is critical in statistics because it allows for the use of the well-understood normal distribution to make reliable inferences about a population's parameters, such as its mean, from sample data, even when the population itself is not normally distributed."
      ],
      "metadata": {
        "id": "QHz4HbGnM8-m"
      }
    },
    {
      "cell_type": "markdown",
      "source": [
        "Question 7: What is the significance of confidence intervals in statistical analysis?\n",
        "\n",
        "Answer:Confidence intervals provide a range of plausible values for an unknown population parameter (like a mean or proportion) and express the precision of an estimate from sample data. They indicate the reliability of an estimate and the likely variation in future samples, with narrower intervals signifying a more stable and precise estimate of the true population value. This allows researchers to assess uncertainty and make more informed inferences about a population based on a limited sample."
      ],
      "metadata": {
        "id": "Y-U8rdN4N0D0"
      }
    },
    {
      "cell_type": "markdown",
      "source": [
        "Question 8: What is the concept of expected value in a probability distribution?\n",
        "\n",
        "Answer:The concept of expected value (or expectation, mean, or average) in a probability distribution is the theoretical average outcome of a random variable over many repetitions. It's calculated as a weighted average, where each possible value of the random variable is multiplied by its probability and then summed. Expected value is a crucial statistical measure that acts as a single number to summarize the central tendency of the distribution."
      ],
      "metadata": {
        "id": "SeYr4HTJN0SV"
      }
    },
    {
      "cell_type": "markdown",
      "source": [
        "Question 9: Write a Python program to generate 1000 random numbers from a normal\n",
        "distribution with mean = 50 and standard deviation = 5. Compute its mean and standard deviation using NumPy, and draw a histogram to visualize the distribution.\n",
        "(Include your Python code and output in the code box below.)"
      ],
      "metadata": {
        "id": "cQtm1guiM9Es"
      }
    },
    {
      "cell_type": "code",
      "source": [
        "import numpy as np\n",
        "import matplotlib.pyplot as plt\n",
        "mean =50\n",
        "standard_deviation =5\n",
        "num_samples=1000\n",
        "random_numbers=np.random.normal(mean,standard_deviation,num_samples)\n",
        "mean_value=np.mean(random_numbers)\n",
        "standard_deviation_value=np.std(random_numbers)\n",
        "plt.hist(random_numbers,bins=30,edgecolor='black')"
      ],
      "metadata": {
        "colab": {
          "base_uri": "https://localhost:8080/",
          "height": 621
        },
        "id": "VyzYk1xnS6Bf",
        "outputId": "1ff02970-62aa-4af2-b15c-b0cbaf5e8486"
      },
      "execution_count": 3,
      "outputs": [
        {
          "output_type": "execute_result",
          "data": {
            "text/plain": [
              "(array([ 2.,  0.,  0.,  4.,  4.,  6., 14., 19., 23., 35., 46., 60., 73.,\n",
              "        72., 88., 86., 99., 72., 72., 59., 53., 46., 21., 13., 18.,  5.,\n",
              "         3.,  6.,  0.,  1.]),\n",
              " array([32.85523088, 33.94834299, 35.04145509, 36.13456719, 37.2276793 ,\n",
              "        38.3207914 , 39.4139035 , 40.50701561, 41.60012771, 42.69323981,\n",
              "        43.78635191, 44.87946402, 45.97257612, 47.06568822, 48.15880033,\n",
              "        49.25191243, 50.34502453, 51.43813664, 52.53124874, 53.62436084,\n",
              "        54.71747295, 55.81058505, 56.90369715, 57.99680925, 59.08992136,\n",
              "        60.18303346, 61.27614556, 62.36925767, 63.46236977, 64.55548187,\n",
              "        65.64859398]),\n",
              " <BarContainer object of 30 artists>)"
            ]
          },
          "metadata": {},
          "execution_count": 3
        },
        {
          "output_type": "display_data",
          "data": {
            "text/plain": [
              "<Figure size 640x480 with 1 Axes>"
            ],
            "image/png": "[encoded data removed]"
          },
          "metadata": {}
        }
      ]
    },
    {
      "cell_type": "markdown",
      "source": [
        "Question 10: You are working as a data analyst for a retail company. The company has collected daily sales data for 2 years and wants you to identify  the overall sales trend.\n",
        "daily_sales = [220, 245, 210, 265, 230, 250, 260, 275, 240, 255,\n",
        "235, 260, 245, 250, 225, 270, 265, 255, 250, 260]\n",
        "● Explain how you would apply the Central Limit Theorem to estimate the average sales with a 95% confidence interval.\n",
        "● Write the Python code to compute the mean sales and its confidence interval.\n",
        "(Include your Python code and output in the code box below.)"
      ],
      "metadata": {
        "id": "TBIt3hByOWmV"
      }
    },
    {
      "cell_type": "code",
      "source": [
        "import numpy as np\n",
        "from scipy import stats\n",
        "daily_sales = [220, 245, 210, 265, 230, 250, 260, 275, 240, 255,235, 260, 245, 250, 225, 270, 265, 255, 250, 260]\n",
        "#calculate the mean\n",
        "mean_sales=np.mean(daily_sales)\n",
        "#calculate the standard deviation\n",
        "std_sales=np.std(daily_sales,ddof=1)\n",
        "#get the sample size\n",
        "sample_size=len(daily_sales)\n",
        "#calculate the 95% confidence interval mean\n",
        "confidence_interval = stats.t.interval(\n",
        "    confidence=0.95,\n",
        "    df=sample_size-1,\n",
        "    loc=mean_sales,\n",
        "    scale=stats.sem(daily_sales)\n",
        ")\n",
        "print(f\"Sample Mean Sales: ${mean_sales:,.2f}\")\n",
        "print(f\"Sample Standard Deviation: ${std_sales:,.2f}\")\n",
        "print(f\"95% Confidence Interval: (${confidence_interval[0]:,.2f}, ${confidence_interval[1]:,.2f})\")"
      ],
      "metadata": {
        "colab": {
          "base_uri": "https://localhost:8080/"
        },
        "id": "a0mzLr5lZqOf",
        "outputId": "b62dfd81-97e3-4803-f79f-9ab03e13ba78"
      },
      "execution_count": 23,
      "outputs": [
        {
          "output_type": "stream",
          "name": "stdout",
          "text": [
            "Sample Mean Sales: $248.25\n",
            "Sample Standard Deviation: $17.27\n",
            "95% Confidence Interval: ($240.17, $256.33)\n"
          ]
        }
      ]
    }
  ]
}